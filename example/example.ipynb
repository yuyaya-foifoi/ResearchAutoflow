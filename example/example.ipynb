{
 "cells": [
  {
   "cell_type": "code",
   "execution_count": null,
   "metadata": {},
   "outputs": [],
   "source": [
    "cd to/your/path"
   ]
  },
  {
   "cell_type": "markdown",
   "metadata": {},
   "source": [
    "### コードを github から clone する"
   ]
  },
  {
   "cell_type": "code",
   "execution_count": null,
   "metadata": {},
   "outputs": [],
   "source": [
    "!git clone https://github.com/yuyaya-foifoi/ResearchAutoflow.git\n",
    "%cd ResearchAutoflow"
   ]
  },
  {
   "cell_type": "markdown",
   "metadata": {},
   "source": [
    "### 必要最低限のライブラリを install"
   ]
  },
  {
   "cell_type": "code",
   "execution_count": null,
   "metadata": {},
   "outputs": [],
   "source": [
    "!pip install pymupdf PyPDF2 boto3 anthropic"
   ]
  },
  {
   "cell_type": "markdown",
   "metadata": {},
   "source": [
    "### 実験に使う関数の import "
   ]
  },
  {
   "cell_type": "code",
   "execution_count": null,
   "metadata": {},
   "outputs": [],
   "source": [
    "from google.colab import userdata\n",
    "import os\n",
    "os.environ['OPENAI_API_KEY'] = userdata.get('autores_openai')\n",
    "os.environ['ANTHROPIC_API_KEY'] = userdata.get('autores_anthropic')\n",
    "\n",
    "from src.llm_interaction.experiment import generate_query, generate_initial_idea\n",
    "from src.paper_analysis.arxiv import analyze_papers_to_df\n",
    "from src.experiments.run_experiment import run_experiment"
   ]
  },
  {
   "cell_type": "markdown",
   "metadata": {},
   "source": [
    "### 初期の coarse なアイデアの記述\n",
    " サンプルは https://huggingface.co/papers/2412.17739 の abst"
   ]
  },
  {
   "cell_type": "code",
   "execution_count": null,
   "metadata": {},
   "outputs": [],
   "source": [
    "coarse_idea = \"\"\"\n",
    "Extending the context length of Language Models (LMs) by improving Rotary Position Embedding (RoPE) has become a trend. While existing works mainly address RoPE's limitations within attention mechanism, this paper provides an analysis across nearly all parts of LMs, uncovering their adverse effects on length generalization for RoPE-based attention. Using Discrete Signal Processing theory, we show that RoPE enables periodic attention by implicitly achieving Non-Uniform Discrete Fourier Transform. However, this periodicity is undermined by the spectral damage caused by: 1) linear layers and activation functions outside of attention; 2) insufficiently trained frequency components brought by time-domain truncation. Building on our observations, we propose Fourier Position Embedding (FoPE), which enhances attention's frequency-domain properties to improve both its periodic extension and length generalization. FoPE constructs Fourier Series and zero-outs the destructive frequency components, increasing model robustness against the spectrum damage. Experiments across various model scales show that, within varying context windows, FoPE can maintain a more stable perplexity and a more consistent accuracy in a needle-in-haystack task compared to RoPE and ALiBi. Several analyses and ablations bring further support to our method and theoretical modeling.\n",
    "\"\"\""
   ]
  },
  {
   "cell_type": "markdown",
   "metadata": {},
   "source": [
    "### coarse なアイデアを発展させるための論文探索をするためのクエリを生成"
   ]
  },
  {
   "cell_type": "code",
   "execution_count": null,
   "metadata": {},
   "outputs": [],
   "source": [
    "import numpy as np\n",
    "import pandas as pd\n",
    "\n",
    "queries = []\n",
    "\n",
    "for i in np.arange(4):\n",
    "    query_sets = generate_query(coarse_idea)\n",
    "    queries.append(query_sets.idea)"
   ]
  },
  {
   "cell_type": "markdown",
   "metadata": {},
   "source": [
    "### クエリをもとに survey する\n",
    "中身としてはarxivを検索し、論文を取得し、その論文内に githubのlinkがあれば提案手法のpythonコードを取得する"
   ]
  },
  {
   "cell_type": "code",
   "execution_count": null,
   "metadata": {},
   "outputs": [],
   "source": [
    "dfs = []\n",
    "for query in queries:\n",
    "    df = analyze_papers_to_df(query, num_papers=3)\n",
    "    dfs.append(df)\n",
    "\n",
    "initial_survey_df = pd.concat(dfs, ignore_index=True)"
   ]
  },
  {
   "cell_type": "markdown",
   "metadata": {},
   "source": [
    "### survey の結果をもとに 初期のアイデアを発展させる"
   ]
  },
  {
   "cell_type": "code",
   "execution_count": null,
   "metadata": {},
   "outputs": [],
   "source": [
    "idea = generate_initial_idea(\n",
    "    idea=coarse_idea,\n",
    "    survey_df=initial_survey_df\n",
    ")\n",
    "print(idea.idea)\n",
    "print(idea.desc_of_idea)"
   ]
  },
  {
   "cell_type": "markdown",
   "metadata": {},
   "source": [
    "### 実験を行う"
   ]
  },
  {
   "cell_type": "code",
   "execution_count": null,
   "metadata": {},
   "outputs": [],
   "source": [
    "N_EXP = 10\n",
    "\n",
    "# ---実験結果を s3 に保存しない場合 ---\n",
    "\n",
    "run_experiment(\n",
    "    idea=idea.idea,\n",
    "    initial_survey_df=initial_survey_df,\n",
    "    num_experiment=N_EXP,\n",
    "    )\n",
    "\n",
    "# ---実験結果を s3 に保存する場合 ---\n",
    "\"\"\"\n",
    "AWS_ACCESS_KEY = userdata.get('AWS_ACCESS_KEY')\n",
    "AWS_SECRET_KEY = userdata.get('AWS_SECRET_KEY')\n",
    "AWS_REGION = \"us-east-1\"\n",
    "BUCKET_NAME = \"auto-experiment-output\"\n",
    "S3_FOLDER = \"experiments/\"\n",
    "\n",
    "run_experiment(\n",
    "    idea=idea.idea,\n",
    "    initial_survey_df=initial_survey_df,\n",
    "    num_experiment=N_EXP,\n",
    "    bucket=BUCKET_NAME,\n",
    "    s3_folder=S3_FOLDER,\n",
    "    access_key=AWS_ACCESS_KEY,\n",
    "    secret_key=AWS_SECRET_KEY,\n",
    "    region=AWS_REGION\n",
    "    )\n",
    "\"\"\""
   ]
  }
 ],
 "metadata": {
  "kernelspec": {
   "display_name": ".venv",
   "language": "python",
   "name": "python3"
  },
  "language_info": {
   "codemirror_mode": {
    "name": "ipython",
    "version": 3
   },
   "file_extension": ".py",
   "mimetype": "text/x-python",
   "name": "python",
   "nbconvert_exporter": "python",
   "pygments_lexer": "ipython3",
   "version": "3.9.7"
  }
 },
 "nbformat": 4,
 "nbformat_minor": 2
}
